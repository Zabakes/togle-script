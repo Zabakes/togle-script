{
 "cells": [
  {
   "cell_type": "code",
   "execution_count": 1,
   "metadata": {},
   "outputs": [],
   "source": [
    "import json"
   ]
  },
  {
   "cell_type": "code",
   "execution_count": 4,
   "metadata": {},
   "outputs": [],
   "source": [
    "def combineLegendAndData(layoutInfo):\n",
    "    \n",
    "    newInfo = []\n",
    "    \n",
    "    for row in layoutInfo:\n",
    "        lastKey = None\n",
    "        newInfo.append([])\n",
    "        for key in row:\n",
    "            if type(key) is str:\n",
    "                d = {\"legend\" : key}\n",
    "                if lastKey is not None:\n",
    "                    d.update(lastKey)\n",
    "                    lastKey = None\n",
    "                newInfo[-1].append(d)\n",
    "                lastKey = None\n",
    "            elif type(key) is dict:\n",
    "                lastKey = key\n",
    "    return newInfo"
   ]
  },
  {
   "cell_type": "code",
   "execution_count": 6,
   "metadata": {},
   "outputs": [
    {
     "data": {
      "text/plain": [
       "[['Num Lock',\n",
       "  '/',\n",
       "  '*',\n",
       "  '-',\n",
       "  {'x': 0.25, 'f': 4, 'w': 14, 'h': 5, 'd': True},\n",
       "  \"<h5><b>Getting Started with Keyboard-Layout-Editor.com</b></h5><p>Keyboard-layout-editor.com is a web application that enables the editing of keyboard-layouts, i.e., the position and appearance of each physical key.</p><p>Start by exploring the presets and samples from the menu-bar to give you an idea of the possibilities.  Once you are ready to start designing your own keyboard, just load one of the presets and start customizing it!  Some tips:</p><ul><li>The selected keys can be modified on the <i>Properties</i> tab.</li><li>The <i>Keyboard Properties</i> tab lets you edit the keyboard background and keyboard metadata.</li><li>The <i>Custom Styles</i> tab lets you write advanced CSS styling rules.</li><li>Don't forget the <i>Color Swatches</i> and <i>Character Picker</i> menu items!  These give you easy access to colors and symbol characters, respectively.</li><li>There are a lot of available keyboard shortcuts; press '?' or 'F1' to see a list.</li></ul><p>When you're ready to save your layout, simply 'Sign In' with your <a href='https://www.github.com'>GitHub</a> account and click the <i>Save</i> button.  Your layout will be saved in a GitHub Gist.</p><p>Have fun!</p>\"],\n",
       " [{'f': 3}, '7\\nHome', '8\\n↑', '9\\nPgUp', {'h': 2}, '+'],\n",
       " ['4\\n←', '5', '6\\n→'],\n",
       " ['1\\nEnd', '2\\n↓', '3\\nPgDn', {'h': 2}, 'Enter'],\n",
       " [{'w': 2}, '0\\nIns', '.\\nDel']]"
      ]
     },
     "execution_count": 6,
     "metadata": {},
     "output_type": "execute_result"
    }
   ],
   "source": [
    "layoutFile = \"Layouts\\keyboard-layout-5.json\"\n",
    "            \n",
    "with open(layoutFile, 'r') as layout:\n",
    "    layoutInfo = json.load(layout)\n",
    "\n",
    "layoutInfo"
   ]
  },
  {
   "cell_type": "code",
   "execution_count": 7,
   "metadata": {},
   "outputs": [
    {
     "data": {
      "text/plain": [
       "[[{'legend': 'Num Lock'},\n",
       "  {'legend': '/'},\n",
       "  {'legend': '*'},\n",
       "  {'legend': '-'},\n",
       "  {'legend': \"<h5><b>Getting Started with Keyboard-Layout-Editor.com</b></h5><p>Keyboard-layout-editor.com is a web application that enables the editing of keyboard-layouts, i.e., the position and appearance of each physical key.</p><p>Start by exploring the presets and samples from the menu-bar to give you an idea of the possibilities.  Once you are ready to start designing your own keyboard, just load one of the presets and start customizing it!  Some tips:</p><ul><li>The selected keys can be modified on the <i>Properties</i> tab.</li><li>The <i>Keyboard Properties</i> tab lets you edit the keyboard background and keyboard metadata.</li><li>The <i>Custom Styles</i> tab lets you write advanced CSS styling rules.</li><li>Don't forget the <i>Color Swatches</i> and <i>Character Picker</i> menu items!  These give you easy access to colors and symbol characters, respectively.</li><li>There are a lot of available keyboard shortcuts; press '?' or 'F1' to see a list.</li></ul><p>When you're ready to save your layout, simply 'Sign In' with your <a href='https://www.github.com'>GitHub</a> account and click the <i>Save</i> button.  Your layout will be saved in a GitHub Gist.</p><p>Have fun!</p>\",\n",
       "   'x': 0.25,\n",
       "   'f': 4,\n",
       "   'w': 14,\n",
       "   'h': 5,\n",
       "   'd': True}],\n",
       " [{'legend': '7\\nHome', 'f': 3},\n",
       "  {'legend': '8\\n↑'},\n",
       "  {'legend': '9\\nPgUp'},\n",
       "  {'legend': '+', 'h': 2}],\n",
       " [{'legend': '4\\n←'}, {'legend': '5'}, {'legend': '6\\n→'}],\n",
       " [{'legend': '1\\nEnd'},\n",
       "  {'legend': '2\\n↓'},\n",
       "  {'legend': '3\\nPgDn'},\n",
       "  {'legend': 'Enter', 'h': 2}],\n",
       " [{'legend': '0\\nIns', 'w': 2}, {'legend': '.\\nDel'}]]"
      ]
     },
     "execution_count": 7,
     "metadata": {},
     "output_type": "execute_result"
    }
   ],
   "source": [
    "combineLegendAndData(layoutInfo)"
   ]
  }
 ],
 "metadata": {
  "kernelspec": {
   "display_name": "toggleScript",
   "language": "python",
   "name": "python3"
  },
  "language_info": {
   "codemirror_mode": {
    "name": "ipython",
    "version": 3
   },
   "file_extension": ".py",
   "mimetype": "text/x-python",
   "name": "python",
   "nbconvert_exporter": "python",
   "pygments_lexer": "ipython3",
   "version": "3.8.17"
  },
  "orig_nbformat": 4
 },
 "nbformat": 4,
 "nbformat_minor": 2
}
